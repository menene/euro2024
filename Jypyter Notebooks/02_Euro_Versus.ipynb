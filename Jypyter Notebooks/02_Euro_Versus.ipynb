{
  "nbformat": 4,
  "nbformat_minor": 0,
  "metadata": {
    "colab": {
      "provenance": []
    },
    "kernelspec": {
      "name": "python3",
      "display_name": "Python 3"
    },
    "language_info": {
      "name": "python"
    }
  },
  "cells": [
    {
      "cell_type": "code",
      "execution_count": null,
      "metadata": {
        "id": "DXFfhw_gF4P-"
      },
      "outputs": [],
      "source": [
        "import pandas as pd\n",
        "import matplotlib.pyplot as plt"
      ]
    },
    {
      "cell_type": "code",
      "source": [
        "def determine_winner(row, team1, team2):\n",
        "    if row[\"HomeTeamName\"] == team1 and row[\"HomeTeamGoals\"] > row[\"AwayTeamGoals\"]:\n",
        "        return team1\n",
        "    elif row[\"HomeTeamName\"] == team2 and row[\"HomeTeamGoals\"] > row[\"AwayTeamGoals\"]:\n",
        "        return team2\n",
        "    elif row[\"AwayTeamName\"] == team1 and row[\"AwayTeamGoals\"] > row[\"HomeTeamGoals\"]:\n",
        "        return team1\n",
        "    elif row[\"AwayTeamName\"] == team2 and row[\"AwayTeamGoals\"] > row[\"HomeTeamGoals\"]:\n",
        "        return team2\n",
        "    else:\n",
        "        return \"Draw\"\n",
        "\n",
        "def head_to_head(df, team1, team2):\n",
        "    head_to_head = df.query(\n",
        "        f\"(HomeTeamName == '{team1}' and AwayTeamName == '{team2}') or (AwayTeamName == '{team1}' and HomeTeamName == '{team2}')\"\n",
        "    ).copy()\n",
        "\n",
        "    head_to_head[\"Winner\"] = head_to_head.apply(\n",
        "        determine_winner,\n",
        "        axis=1,\n",
        "        args=(team1, team2)\n",
        "    )\n",
        "\n",
        "    match_counts = (\n",
        "        head_to_head[\"Winner\"]\n",
        "        .value_counts()\n",
        "        .reindex([team1, team2, \"Draw\"], fill_value=0)\n",
        "    )\n",
        "\n",
        "    fig, ax = plt.subplots(figsize=(10, 5))\n",
        "    match_counts.plot(kind=\"bar\", ax=ax)\n",
        "    ax.set_title(f\"{team1} vs {team2}\")\n",
        "    ax.set_xlabel(\"Resultado\")\n",
        "    ax.set_ylabel(\"Partidos\")\n",
        "    plt.xticks(rotation=0)\n",
        "    plt.show()"
      ],
      "metadata": {
        "id": "cLdLcUc5GLLB"
      },
      "execution_count": null,
      "outputs": []
    },
    {
      "cell_type": "code",
      "source": [
        "df = pd.read_csv(\n",
        "    \"https://raw.githubusercontent.com/menene/euro2024/main/uefa_euro_matches.csv\",\n",
        "    encoding=\"utf8\",\n",
        ")"
      ],
      "metadata": {
        "id": "bdaeE1DSF-ze"
      },
      "execution_count": null,
      "outputs": []
    },
    {
      "cell_type": "code",
      "source": [
        "df[\"HomeTeamName\"] = df[\"HomeTeamName\"].str.rstrip()\n",
        "df[\"AwayTeamName\"] = df[\"AwayTeamName\"].str.lstrip()"
      ],
      "metadata": {
        "id": "2llqrMUBGBeo"
      },
      "execution_count": null,
      "outputs": []
    },
    {
      "cell_type": "code",
      "source": [
        "head_to_head(df, \"France\", \"Spain\")"
      ],
      "metadata": {
        "id": "YJzvmQfLHDZg"
      },
      "execution_count": null,
      "outputs": []
    },
    {
      "cell_type": "code",
      "source": [
        "team1 = input(\"Ingrese el nombre del primer equípo: \")\n",
        "team2 = input(\"Ingrese el nombre del primer equípo: \")\n",
        "\n",
        "head_to_head(df, team1, team2)"
      ],
      "metadata": {
        "id": "svFb-gGlHF5j"
      },
      "execution_count": null,
      "outputs": []
    }
  ]
}